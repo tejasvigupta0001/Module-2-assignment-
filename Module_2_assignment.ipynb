{
  "nbformat": 4,
  "nbformat_minor": 0,
  "metadata": {
    "colab": {
      "provenance": []
    },
    "kernelspec": {
      "name": "python3",
      "display_name": "Python 3"
    },
    "language_info": {
      "name": "python"
    }
  },
  "cells": [
    {
      "cell_type": "code",
      "execution_count": null,
      "metadata": {
        "id": "rQRqi-vScJoJ"
      },
      "outputs": [],
      "source": [
        "\n"
      ]
    },
    {
      "cell_type": "markdown",
      "source": [
        "1. What is Python, and why is it popular?\n",
        ">Python is an interpreter, high-level programming language that is well-known for its extensive library, ease of use, and readability. It is well-liked because to its robust community support, adaptability, and simplicity of use."
      ],
      "metadata": {
        "id": "UZJTcRMQ0CdD"
      }
    },
    {
      "cell_type": "code",
      "source": [],
      "metadata": {
        "id": "3Y8Fgozj0sgT"
      },
      "execution_count": null,
      "outputs": []
    },
    {
      "cell_type": "markdown",
      "source": [
        "2. What is an interpreter in Python?\n",
        "> An interpreter is a program that executes Python code line by line, converting it into machine code for execution."
      ],
      "metadata": {
        "id": "tFEBcGd30uUi"
      }
    },
    {
      "cell_type": "code",
      "source": [],
      "metadata": {
        "id": "yDzwRiyc1Vgt"
      },
      "execution_count": null,
      "outputs": []
    },
    {
      "cell_type": "markdown",
      "source": [
        "3. What are pre-defined keywords in Python?\n",
        ">It is reserved words in Python that have a special meaning, such as  `if`, `else`, `for`, `while`, `def`, `class`, etc"
      ],
      "metadata": {
        "id": "I1r2BY2x1Xr4"
      }
    },
    {
      "cell_type": "code",
      "source": [],
      "metadata": {
        "id": "YxiJ2o-b2Jof"
      },
      "execution_count": null,
      "outputs": []
    },
    {
      "cell_type": "markdown",
      "source": [
        "4. Can keywords be used as variable names?\n",
        ">No, Python keywords cannot be used as variable names since they have a predefined purpose."
      ],
      "metadata": {
        "id": "0_D1hqn72OR3"
      }
    },
    {
      "cell_type": "code",
      "source": [],
      "metadata": {
        "id": "-KZ6y7LA2p4B"
      },
      "execution_count": null,
      "outputs": []
    },
    {
      "cell_type": "markdown",
      "source": [
        "5. What is mutability in Python?\n",
        ">Mutability means an object’s value can be changed after its creation. Mutable objects can be modified, while immutable objects cannot."
      ],
      "metadata": {
        "id": "6VmM0Yl32sja"
      }
    },
    {
      "cell_type": "code",
      "source": [],
      "metadata": {
        "id": "fxh-TqEC3WWB"
      },
      "execution_count": null,
      "outputs": []
    },
    {
      "cell_type": "markdown",
      "source": [
        "6. Why are lists mutable, but tuples are immutable?\n",
        ">Lists are mutable because they allow modification of elements, whereas tuples are immutable because their structure is fixed and cannot be altered."
      ],
      "metadata": {
        "id": "shoXLkAi3YoP"
      }
    },
    {
      "cell_type": "code",
      "source": [],
      "metadata": {
        "id": "vuPbQcrD3tFe"
      },
      "execution_count": null,
      "outputs": []
    },
    {
      "cell_type": "markdown",
      "source": [
        "7. What is the difference between `==` and `is` operators in Python?\n",
        ">`==` checks for value equality, while `is` checks for reference (memory location) equality."
      ],
      "metadata": {
        "id": "ghlP4F1q3vjf"
      }
    },
    {
      "cell_type": "code",
      "source": [],
      "metadata": {
        "id": "iqDxJSOr4Aqk"
      },
      "execution_count": null,
      "outputs": []
    },
    {
      "cell_type": "markdown",
      "source": [
        "8. What are logical operators in Python?\n",
        ">Logical operators are: `and`, `or`, and `not`."
      ],
      "metadata": {
        "id": "4X53pW1S4DHV"
      }
    },
    {
      "cell_type": "code",
      "source": [],
      "metadata": {
        "id": "MdN5aYPj4dTn"
      },
      "execution_count": null,
      "outputs": []
    },
    {
      "cell_type": "markdown",
      "source": [
        "9. What is type casting in Python?\n",
        ">Type casting is converting one data type to another, e.g., converting a string to an integer using `int(\"10\")`."
      ],
      "metadata": {
        "id": "M0VQk3Nr4gI2"
      }
    },
    {
      "cell_type": "code",
      "source": [],
      "metadata": {
        "id": "ysdEy-Oc4yC1"
      },
      "execution_count": null,
      "outputs": []
    },
    {
      "cell_type": "markdown",
      "source": [
        "10. What is the difference between implicit and explicit type casting?\n",
        ">    - Implicit: Automatically performed by Python (e.g., `int` to `float`).  \n",
        "    Explicit: Manually done using functions like `int()`, `float()`, `str()`, etc.\n"
      ],
      "metadata": {
        "id": "HVp1Jxy64zHc"
      }
    },
    {
      "cell_type": "code",
      "source": [],
      "metadata": {
        "id": "Td1y-6cW5wAs"
      },
      "execution_count": null,
      "outputs": []
    },
    {
      "cell_type": "markdown",
      "source": [
        "11. What is the purpose of conditional statements in Python?\n",
        " >  It controls the program flow based on conditions, examples-`if`, `elif`, `else`"
      ],
      "metadata": {
        "id": "eVyu7LEb5ypk"
      }
    },
    {
      "cell_type": "code",
      "source": [],
      "metadata": {
        "id": "JlToWQjp6uRL"
      },
      "execution_count": null,
      "outputs": []
    },
    {
      "cell_type": "markdown",
      "source": [
        "12. How does the `elif` statement work?\n",
        ">elif` (else if) allows multiple conditions to be checked sequentially."
      ],
      "metadata": {
        "id": "w4JLCsZD6wu0"
      }
    },
    {
      "cell_type": "code",
      "source": [],
      "metadata": {
        "id": "OHKEpu5j7D6n"
      },
      "execution_count": null,
      "outputs": []
    },
    {
      "cell_type": "markdown",
      "source": [
        "13. What is the difference between `for` and `while` loops?\n",
        ">    - `for` loop iterates over a sequence (like a list).  \n",
        "  `while` loop runs as long as a condition is `True`.\n"
      ],
      "metadata": {
        "id": "U3a7XNMk7E1F"
      }
    },
    {
      "cell_type": "markdown",
      "source": [
        "14. Describe a scenario where a `while` loop is more suitable than a `for` loop.\n",
        ">When the number of iterations is unknown beforehand, such as reading user input until a valid response is given."
      ],
      "metadata": {
        "id": "YAwDW9F_7ggX"
      }
    },
    {
      "cell_type": "markdown",
      "source": [
        "**Practical Questions**"
      ],
      "metadata": {
        "id": "uzFMUgxV7_5m"
      }
    },
    {
      "cell_type": "code",
      "source": [
        "# 1. Write a Python program to print \"Hello, World!\"\n",
        "'''\n",
        "print(\"Hello, World!\")\n",
        "'''"
      ],
      "metadata": {
        "colab": {
          "base_uri": "https://localhost:8080/",
          "height": 35
        },
        "id": "a-7YH7Iv7e0G",
        "outputId": "89bd47b2-d292-49d5-b9d3-7bbf909cfa5f"
      },
      "execution_count": 1,
      "outputs": [
        {
          "output_type": "execute_result",
          "data": {
            "text/plain": [
              "'\\nprint(\"Hello, World!\")\\n'"
            ],
            "application/vnd.google.colaboratory.intrinsic+json": {
              "type": "string"
            }
          },
          "metadata": {},
          "execution_count": 1
        }
      ]
    },
    {
      "cell_type": "code",
      "source": [
        "# Write a Python program that displays your name and age.\n",
        "'''\n",
        "   name = \"Tejasvi Kumai\"\n",
        "    age = 25\n",
        "    print(\"My name is\", name)\n",
        "    print(\"My age is\", age)\n",
        "'''"
      ],
      "metadata": {
        "colab": {
          "base_uri": "https://localhost:8080/",
          "height": 35
        },
        "id": "cS8R25cl86dZ",
        "outputId": "056e9653-5946-477e-d0a9-bac189d7bff0"
      },
      "execution_count": 2,
      "outputs": [
        {
          "output_type": "execute_result",
          "data": {
            "text/plain": [
              "'\\n   name = \"Tejasvi Kumai\"\\n    age = 25\\n    print(\"My name is\", name)\\n    print(\"My age is\", age)\\n'"
            ],
            "application/vnd.google.colaboratory.intrinsic+json": {
              "type": "string"
            }
          },
          "metadata": {},
          "execution_count": 2
        }
      ]
    },
    {
      "cell_type": "code",
      "source": [
        "# Write code to print all the pre-defined keywords in Python using the keyword library.\n",
        "'''\n",
        "import keyword\n",
        "    print(keyword.kwlist)\n",
        "'''"
      ],
      "metadata": {
        "colab": {
          "base_uri": "https://localhost:8080/",
          "height": 35
        },
        "id": "AouF0hw69QiA",
        "outputId": "1c9e2f06-cef6-4865-8914-3ca7e3f7ac7d"
      },
      "execution_count": 3,
      "outputs": [
        {
          "output_type": "execute_result",
          "data": {
            "text/plain": [
              "'\\nimport keyword\\n    print(keyword.kwlist)\\n'"
            ],
            "application/vnd.google.colaboratory.intrinsic+json": {
              "type": "string"
            }
          },
          "metadata": {},
          "execution_count": 3
        }
      ]
    },
    {
      "cell_type": "code",
      "source": [
        "# Write a program that checks if a given word is a Python keyword.\n",
        "'''\n",
        "import keyword\n",
        "word = input(\"Enter a word: \")\n",
        "print(f\"'{word}' is a keyword:\", keyword.iskeyword(word))\n",
        "'''\n",
        "\n"
      ],
      "metadata": {
        "colab": {
          "base_uri": "https://localhost:8080/",
          "height": 35
        },
        "id": "ZuTFai8M9uLF",
        "outputId": "feb97128-718d-4d55-f9d7-4a09aa250f98"
      },
      "execution_count": 4,
      "outputs": [
        {
          "output_type": "execute_result",
          "data": {
            "text/plain": [
              "'\\nimport keyword\\nword = input(\"Enter a word: \")\\nprint(f\"\\'{word}\\' is a keyword:\", keyword.iskeyword(word))\\n'"
            ],
            "application/vnd.google.colaboratory.intrinsic+json": {
              "type": "string"
            }
          },
          "metadata": {},
          "execution_count": 4
        }
      ]
    },
    {
      "cell_type": "code",
      "source": [
        "# Create a list and tuple in Python, and demonstrate how attempting to change an element works differently for each.\n",
        "'''\n",
        "    my_list = [1, 2, 3]\n",
        "    my_tuple = (1, 2, 3)\n",
        "\n",
        "    my_list[0] = 10  # Works\n",
        "    my_tuple[0] = 10  # Causes an error (tuples are immutable)\n",
        "'''"
      ],
      "metadata": {
        "colab": {
          "base_uri": "https://localhost:8080/",
          "height": 35
        },
        "id": "6Pi51252-JIw",
        "outputId": "2067534c-5cc7-4cc7-f593-903907f6d22c"
      },
      "execution_count": 5,
      "outputs": [
        {
          "output_type": "execute_result",
          "data": {
            "text/plain": [
              "'\\n    my_list = [1, 2, 3]\\n    my_tuple = (1, 2, 3)\\n    \\n    my_list[0] = 10  # Works\\n    my_tuple[0] = 10  # Causes an error (tuples are immutable)\\n'"
            ],
            "application/vnd.google.colaboratory.intrinsic+json": {
              "type": "string"
            }
          },
          "metadata": {},
          "execution_count": 5
        }
      ]
    },
    {
      "cell_type": "code",
      "source": [
        "# Write a function to demonstrate the behavior of mutable and immutable arguments.\n",
        "'''\n",
        "def modify_data(lst, num):\n",
        "lst.append(100)  # Modifies the original list (mutable)\n",
        "num += 10  # Creates a new integer object (immutable)\n",
        "my_list = [1, 2, 3]\n",
        "my_num = 5\n",
        "modify_data(my_list, my_num)\n",
        "print(my_list)  # [1, 2, 3, 100]\n",
        "print(my_num)   # 5 (unchanged)\n",
        "'''\n"
      ],
      "metadata": {
        "colab": {
          "base_uri": "https://localhost:8080/",
          "height": 53
        },
        "id": "5q4Ll297-b9S",
        "outputId": "b5704c99-3b0c-4de5-bc92-67f7fa6c6f3e"
      },
      "execution_count": 6,
      "outputs": [
        {
          "output_type": "execute_result",
          "data": {
            "text/plain": [
              "'\\ndef modify_data(lst, num):\\nlst.append(100)  # Modifies the original list (mutable)\\nnum += 10  # Creates a new integer object (immutable)\\nmy_list = [1, 2, 3]\\nmy_num = 5\\nmodify_data(my_list, my_num)\\nprint(my_list)  # [1, 2, 3, 100]\\nprint(my_num)   # 5 (unchanged)\\n'"
            ],
            "application/vnd.google.colaboratory.intrinsic+json": {
              "type": "string"
            }
          },
          "metadata": {},
          "execution_count": 6
        }
      ]
    },
    {
      "cell_type": "code",
      "source": [
        "# Write a program to demonstrate the use of logical operators.\n",
        "'''\n",
        "    a, b = True, False\n",
        "    print(a and b)  # False\n",
        "    print(a or b)   # True\n",
        "    print(not a)    # False\n",
        "'''"
      ],
      "metadata": {
        "colab": {
          "base_uri": "https://localhost:8080/",
          "height": 35
        },
        "id": "tObExc-S_l7Y",
        "outputId": "083a0856-0e18-44e5-b76c-a25527454bb7"
      },
      "execution_count": 7,
      "outputs": [
        {
          "output_type": "execute_result",
          "data": {
            "text/plain": [
              "'\\n    a, b = True, False\\n    print(a and b)  # False\\n    print(a or b)   # True\\n    print(not a)    # False\\n'"
            ],
            "application/vnd.google.colaboratory.intrinsic+json": {
              "type": "string"
            }
          },
          "metadata": {},
          "execution_count": 7
        }
      ]
    },
    {
      "cell_type": "code",
      "source": [
        "# Write a Python program to convert user input from string to integer, float, and boolean types.\n",
        "'''\n",
        "user_input = input(\"Enter a value: \")\n",
        "print(int(user_input), float(user_input), bool(user_input))\n",
        "'''\n"
      ],
      "metadata": {
        "colab": {
          "base_uri": "https://localhost:8080/",
          "height": 35
        },
        "id": "0qLOszU9AONJ",
        "outputId": "6358318d-c2ef-4f97-db5a-32bdaee18360"
      },
      "execution_count": 8,
      "outputs": [
        {
          "output_type": "execute_result",
          "data": {
            "text/plain": [
              "'\\nuser_input = input(\"Enter a value: \")\\nprint(int(user_input), float(user_input), bool(user_input))\\n'"
            ],
            "application/vnd.google.colaboratory.intrinsic+json": {
              "type": "string"
            }
          },
          "metadata": {},
          "execution_count": 8
        }
      ]
    },
    {
      "cell_type": "code",
      "source": [
        "# Write code to demonstrate type casting with list elements.\n",
        "'''\n",
        "my_list = [\"1\", \"2\", \"3\"]\n",
        "int_list = list(map(int, my_list))\n",
        "print(int_list)  # [1, 2, 3]\n",
        "'''\n"
      ],
      "metadata": {
        "colab": {
          "base_uri": "https://localhost:8080/",
          "height": 35
        },
        "id": "tBSmIP_mBH0G",
        "outputId": "73965f87-f155-4e34-eabe-f6a45d587fb1"
      },
      "execution_count": 9,
      "outputs": [
        {
          "output_type": "execute_result",
          "data": {
            "text/plain": [
              "'\\nmy_list = [\"1\", \"2\", \"3\"]\\nint_list = list(map(int, my_list))\\nprint(int_list)  # [1, 2, 3]\\n'"
            ],
            "application/vnd.google.colaboratory.intrinsic+json": {
              "type": "string"
            }
          },
          "metadata": {},
          "execution_count": 9
        }
      ]
    },
    {
      "cell_type": "code",
      "source": [
        "# Write a program that checks if a number is positive, negative, or zero.\n",
        "'''\n",
        "num = int(input(\"Enter a number: \"))\n",
        "    if num > 0:\n",
        "        print(\"Positive\")\n",
        "    elif num < 0:\n",
        "        print(\"Negative\")\n",
        "    else:\n",
        "        print(\"Zero\")\n",
        "'''"
      ],
      "metadata": {
        "colab": {
          "base_uri": "https://localhost:8080/",
          "height": 53
        },
        "id": "xsCZ_INCBbes",
        "outputId": "9df84ce3-e162-4271-a78e-0b3ba37b0f2a"
      },
      "execution_count": 10,
      "outputs": [
        {
          "output_type": "execute_result",
          "data": {
            "text/plain": [
              "'\\nnum = int(input(\"Enter a number: \"))\\n    if num > 0:\\n        print(\"Positive\")\\n    elif num < 0:\\n        print(\"Negative\")\\n    else:\\n        print(\"Zero\")\\n'"
            ],
            "application/vnd.google.colaboratory.intrinsic+json": {
              "type": "string"
            }
          },
          "metadata": {},
          "execution_count": 10
        }
      ]
    },
    {
      "cell_type": "code",
      "source": [
        "# Write a `for` loop to print numbers from 1 to 10.\n",
        "'''\n",
        "for i in range(1, 11):\n",
        "        print(i)\n",
        "'''"
      ],
      "metadata": {
        "colab": {
          "base_uri": "https://localhost:8080/",
          "height": 35
        },
        "id": "jGP1w48ABubD",
        "outputId": "4b1a2949-5110-48b5-fcb4-eb7a28cde1e3"
      },
      "execution_count": 11,
      "outputs": [
        {
          "output_type": "execute_result",
          "data": {
            "text/plain": [
              "'\\nfor i in range(1, 11):\\n        print(i)\\n'"
            ],
            "application/vnd.google.colaboratory.intrinsic+json": {
              "type": "string"
            }
          },
          "metadata": {},
          "execution_count": 11
        }
      ]
    },
    {
      "cell_type": "code",
      "source": [
        "# Write a Python program to find the sum of all even numbers between 1 and 50.\n",
        "'''\n",
        "print(sum(i for i in range(1, 51) if i % 2 == 0))\n",
        "'''"
      ],
      "metadata": {
        "colab": {
          "base_uri": "https://localhost:8080/",
          "height": 35
        },
        "id": "w5U6yQO3CCOQ",
        "outputId": "3872988a-a15e-4a98-8b4c-62001f306e18"
      },
      "execution_count": 12,
      "outputs": [
        {
          "output_type": "execute_result",
          "data": {
            "text/plain": [
              "'\\nprint(sum(i for i in range(1, 51) if i % 2 == 0))\\n'"
            ],
            "application/vnd.google.colaboratory.intrinsic+json": {
              "type": "string"
            }
          },
          "metadata": {},
          "execution_count": 12
        }
      ]
    },
    {
      "cell_type": "code",
      "source": [
        "# Write a program to reverse a string using a `while` loop.\n",
        "'''\n",
        "s = input(\"Enter a string: \")\n",
        "    rev = \"\"\n",
        "    i = len(s) - 1\n",
        "    while i >= 0:\n",
        "        rev += s[i]\n",
        "        i -= 1\n",
        "    print(\"Reversed:\", rev)\n",
        "'''"
      ],
      "metadata": {
        "colab": {
          "base_uri": "https://localhost:8080/",
          "height": 35
        },
        "id": "dcuxLqmhCP0A",
        "outputId": "4e7a16a1-4878-4a9d-d9d0-dae0007a4386"
      },
      "execution_count": 13,
      "outputs": [
        {
          "output_type": "execute_result",
          "data": {
            "text/plain": [
              "'\\ns = input(\"Enter a string: \")\\n    rev = \"\"\\n    i = len(s) - 1\\n    while i >= 0:\\n        rev += s[i]\\n        i -= 1\\n    print(\"Reversed:\", rev)\\n'"
            ],
            "application/vnd.google.colaboratory.intrinsic+json": {
              "type": "string"
            }
          },
          "metadata": {},
          "execution_count": 13
        }
      ]
    },
    {
      "cell_type": "code",
      "source": [
        "# Write a Python program to calculate the factorial of a number using a `while` loop.\n",
        "'''\n",
        "num = int(input(\"Enter a number: \"))\n",
        "    fact = 1\n",
        "    i = 1\n",
        "    while i <= num:\n",
        "        fact *= i\n",
        "        i += 1\n",
        "    print(\"Factorial:\", fact)\n",
        "'''"
      ],
      "metadata": {
        "colab": {
          "base_uri": "https://localhost:8080/",
          "height": 35
        },
        "id": "J9_h_UoPChbA",
        "outputId": "6123dd38-5853-4dcc-90c5-50f430399439"
      },
      "execution_count": 14,
      "outputs": [
        {
          "output_type": "execute_result",
          "data": {
            "text/plain": [
              "'\\nnum = int(input(\"Enter a number: \"))\\n    fact = 1\\n    i = 1\\n    while i <= num:\\n        fact *= i\\n        i += 1\\n    print(\"Factorial:\", fact)\\n'"
            ],
            "application/vnd.google.colaboratory.intrinsic+json": {
              "type": "string"
            }
          },
          "metadata": {},
          "execution_count": 14
        }
      ]
    },
    {
      "cell_type": "code",
      "source": [],
      "metadata": {
        "id": "eg3U7G_UCzN3"
      },
      "execution_count": null,
      "outputs": []
    }
  ]
}